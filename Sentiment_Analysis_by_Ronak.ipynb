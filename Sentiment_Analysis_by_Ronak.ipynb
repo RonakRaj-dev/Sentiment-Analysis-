{
  "nbformat": 4,
  "nbformat_minor": 0,
  "metadata": {
    "colab": {
      "provenance": [],
      "authorship_tag": "ABX9TyMJpnIPYYJEdjSWDFiKK6JH",
      "include_colab_link": true
    },
    "kernelspec": {
      "name": "python3",
      "display_name": "Python 3"
    },
    "language_info": {
      "name": "python"
    }
  },
  "cells": [
    {
      "cell_type": "markdown",
      "metadata": {
        "id": "view-in-github",
        "colab_type": "text"
      },
      "source": [
        "<a href=\"https://colab.research.google.com/github/RonakRaj-dev/Sentiment-Analysis-/blob/main/Sentiment_Analysis_by_Ronak.ipynb\" target=\"_parent\"><img src=\"https://colab.research.google.com/assets/colab-badge.svg\" alt=\"Open In Colab\"/></a>"
      ]
    },
    {
      "cell_type": "code",
      "source": [
        "!pip install --user -U nltk"
      ],
      "metadata": {
        "colab": {
          "base_uri": "https://localhost:8080/"
        },
        "id": "oykSjok22jFc",
        "outputId": "ce9256c2-cd87-4759-931e-b3f1442bdd71",
        "collapsed": true
      },
      "execution_count": null,
      "outputs": [
        {
          "output_type": "stream",
          "name": "stdout",
          "text": [
            "Requirement already satisfied: nltk in c:\\python312\\lib\\site-packages (3.9.1)\n",
            "Requirement already satisfied: click in c:\\python312\\lib\\site-packages (from nltk) (8.1.7)\n",
            "Requirement already satisfied: joblib in c:\\python312\\lib\\site-packages (from nltk) (1.4.2)\n",
            "Requirement already satisfied: regex>=2021.8.3 in c:\\python312\\lib\\site-packages (from nltk) (2024.11.6)\n",
            "Requirement already satisfied: tqdm in c:\\python312\\lib\\site-packages (from nltk) (4.67.1)\n",
            "Requirement already satisfied: colorama in c:\\users\\gamer\\appdata\\roaming\\python\\python312\\site-packages (from click->nltk) (0.4.6)\n"
          ]
        },
        {
          "output_type": "stream",
          "name": "stderr",
          "text": [
            "\n",
            "[notice] A new release of pip is available: 24.0 -> 25.0\n",
            "[notice] To update, run: python.exe -m pip install --upgrade pip\n"
          ]
        }
      ]
    },
    {
      "cell_type": "code",
      "source": [
        "!pip install TextBlob\n",
        "!pip install --user -U  WordCloud"
      ],
      "metadata": {
        "colab": {
          "base_uri": "https://localhost:8080/"
        },
        "id": "BInZruNc3D6u",
        "outputId": "fc89494f-87ae-432b-c82f-31c075f0d4da",
        "collapsed": true
      },
      "execution_count": null,
      "outputs": [
        {
          "output_type": "stream",
          "name": "stdout",
          "text": [
            "Requirement already satisfied: TextBlob in c:\\python312\\lib\\site-packages (0.19.0)\n",
            "Requirement already satisfied: nltk>=3.9 in c:\\python312\\lib\\site-packages (from TextBlob) (3.9.1)\n",
            "Requirement already satisfied: click in c:\\python312\\lib\\site-packages (from nltk>=3.9->TextBlob) (8.1.7)\n",
            "Requirement already satisfied: joblib in c:\\python312\\lib\\site-packages (from nltk>=3.9->TextBlob) (1.4.2)\n",
            "Requirement already satisfied: regex>=2021.8.3 in c:\\python312\\lib\\site-packages (from nltk>=3.9->TextBlob) (2024.11.6)\n",
            "Requirement already satisfied: tqdm in c:\\python312\\lib\\site-packages (from nltk>=3.9->TextBlob) (4.67.1)\n",
            "Requirement already satisfied: colorama in c:\\users\\gamer\\appdata\\roaming\\python\\python312\\site-packages (from click->nltk>=3.9->TextBlob) (0.4.6)\n"
          ]
        },
        {
          "output_type": "stream",
          "name": "stderr",
          "text": [
            "\n",
            "[notice] A new release of pip is available: 24.0 -> 25.0\n",
            "[notice] To update, run: python.exe -m pip install --upgrade pip\n"
          ]
        },
        {
          "output_type": "stream",
          "name": "stdout",
          "text": [
            "Requirement already satisfied: WordCloud in c:\\python312\\lib\\site-packages (1.9.4)\n",
            "Requirement already satisfied: numpy>=1.6.1 in c:\\python312\\lib\\site-packages (from WordCloud) (1.26.4)\n",
            "Requirement already satisfied: pillow in c:\\python312\\lib\\site-packages (from WordCloud) (10.3.0)\n",
            "Requirement already satisfied: matplotlib in c:\\users\\gamer\\appdata\\roaming\\python\\python312\\site-packages (from WordCloud) (3.9.0)\n",
            "Requirement already satisfied: contourpy>=1.0.1 in c:\\users\\gamer\\appdata\\roaming\\python\\python312\\site-packages (from matplotlib->WordCloud) (1.2.1)\n",
            "Requirement already satisfied: cycler>=0.10 in c:\\users\\gamer\\appdata\\roaming\\python\\python312\\site-packages (from matplotlib->WordCloud) (0.12.1)\n",
            "Requirement already satisfied: fonttools>=4.22.0 in c:\\python312\\lib\\site-packages (from matplotlib->WordCloud) (4.53.0)\n",
            "Requirement already satisfied: kiwisolver>=1.3.1 in c:\\python312\\lib\\site-packages (from matplotlib->WordCloud) (1.4.5)\n",
            "Requirement already satisfied: packaging>=20.0 in c:\\python312\\lib\\site-packages (from matplotlib->WordCloud) (24.0)\n",
            "Requirement already satisfied: pyparsing>=2.3.1 in c:\\python312\\lib\\site-packages (from matplotlib->WordCloud) (3.1.2)\n",
            "Requirement already satisfied: python-dateutil>=2.7 in c:\\python312\\lib\\site-packages (from matplotlib->WordCloud) (2.9.0.post0)\n",
            "Requirement already satisfied: six>=1.5 in c:\\python312\\lib\\site-packages (from python-dateutil>=2.7->matplotlib->WordCloud) (1.16.0)\n"
          ]
        },
        {
          "output_type": "stream",
          "name": "stderr",
          "text": [
            "\n",
            "[notice] A new release of pip is available: 24.0 -> 25.0\n",
            "[notice] To update, run: python.exe -m pip install --upgrade pip\n"
          ]
        }
      ]
    },
    {
      "cell_type": "markdown",
      "source": [
        "# **Necessay Modules to be installed**"
      ],
      "metadata": {
        "id": "zOKN1I3fe-QN"
      }
    },
    {
      "cell_type": "code",
      "execution_count": 1,
      "metadata": {
        "id": "yn3eoPEUzGYS"
      },
      "outputs": [],
      "source": [
        "import pandas as pd\n",
        "import numpy as np\n",
        "import matplotlib.pyplot as plt"
      ]
    },
    {
      "cell_type": "code",
      "source": [
        "import string\n",
        "import re\n",
        "import nltk\n",
        "import nltk.corpus\n",
        "nltk.download(\"punkt\")\n",
        "nltk.download(\"stopwords\")\n",
        "nltk.download(\"wordnet\")\n",
        "from nltk.tokenize import word_tokenize\n",
        "from nltk.corpus import stopwords\n",
        "from nltk.stem import WordNetLemmatizer"
      ],
      "metadata": {
        "colab": {
          "base_uri": "https://localhost:8080/"
        },
        "id": "-38MohI015Li",
        "outputId": "ea9780c3-5046-4b94-e2c2-aaa7ea424a7f"
      },
      "execution_count": 2,
      "outputs": [
        {
          "output_type": "stream",
          "name": "stderr",
          "text": [
            "[nltk_data] Downloading package punkt to\n",
            "[nltk_data]     C:\\Users\\gamer\\AppData\\Roaming\\nltk_data...\n",
            "[nltk_data]   Package punkt is already up-to-date!\n",
            "[nltk_data] Downloading package stopwords to\n",
            "[nltk_data]     C:\\Users\\gamer\\AppData\\Roaming\\nltk_data...\n",
            "[nltk_data]   Package stopwords is already up-to-date!\n",
            "[nltk_data] Downloading package wordnet to\n",
            "[nltk_data]     C:\\Users\\gamer\\AppData\\Roaming\\nltk_data...\n",
            "[nltk_data]   Package wordnet is already up-to-date!\n"
          ]
        }
      ]
    },
    {
      "cell_type": "code",
      "source": [
        "from textblob import TextBlob\n",
        "from wordcloud import WordCloud\n",
        "from sklearn.feature_extraction.text import CountVectorizer\n",
        "\n",
        "from sklearn.preprocessing import LabelEncoder\n",
        "\n",
        "from sklearn.feature_extraction.text import TfidfVectorizer\n",
        "\n",
        "from imblearn.over_sampling import SMOTE\n",
        "from collections import Counter\n",
        "\n",
        "from sklearn.model_selection import train_test_split"
      ],
      "metadata": {
        "id": "stNnVDvN2gOr"
      },
      "execution_count": 3,
      "outputs": []
    },
    {
      "cell_type": "code",
      "source": [
        "from sklearn.svm import SVC\n",
        "from sklearn.naive_bayes import BernoulliNB\n",
        "from sklearn.linear_model import LogisticRegression\n",
        "from sklearn.tree import DecisionTreeClassifier\n",
        "from sklearn.ensemble import RandomForestClassifier\n",
        "from sklearn.neighbors import KNeighborsClassifier\n",
        "from sklearn.model_selection import cross_val_score"
      ],
      "metadata": {
        "id": "3wNkNMb-41kD"
      },
      "execution_count": 4,
      "outputs": []
    },
    {
      "cell_type": "markdown",
      "source": [
        "# **Reading the CSV files**"
      ],
      "metadata": {
        "id": "4_NLOMgVfTc0"
      }
    },
    {
      "cell_type": "code",
      "source": [
        "dataset = pd.read_csv(\"IMDB Dataset.csv\")"
      ],
      "metadata": {
        "id": "0hPzttW25ksK"
      },
      "execution_count": 5,
      "outputs": []
    },
    {
      "cell_type": "code",
      "source": [
        "dataset.shape"
      ],
      "metadata": {
        "colab": {
          "base_uri": "https://localhost:8080/"
        },
        "id": "dv2S9Zaf6FaA",
        "outputId": "6674b5f2-cac9-4767-8476-815b97b5aa7d"
      },
      "execution_count": 6,
      "outputs": [
        {
          "output_type": "execute_result",
          "data": {
            "text/plain": [
              "(50000, 2)"
            ]
          },
          "metadata": {},
          "execution_count": 6
        }
      ]
    },
    {
      "cell_type": "code",
      "source": [
        "dataset.isnull().sum()"
      ],
      "metadata": {
        "colab": {
          "base_uri": "https://localhost:8080/"
        },
        "id": "Q96nKFAQ6HrP",
        "outputId": "e37a91c4-90a2-4fe2-e220-9cbd030b5a69"
      },
      "execution_count": 7,
      "outputs": [
        {
          "output_type": "execute_result",
          "data": {
            "text/plain": [
              "review       0\n",
              "sentiment    0\n",
              "dtype: int64"
            ]
          },
          "metadata": {},
          "execution_count": 7
        }
      ]
    },
    {
      "cell_type": "code",
      "source": [
        "dataset.describe(include=\"all\")"
      ],
      "metadata": {
        "colab": {
          "base_uri": "https://localhost:8080/",
          "height": 175
        },
        "id": "aRS5Z26691ug",
        "outputId": "2523b84c-7aee-44d8-ddb2-b1111618c77b"
      },
      "execution_count": 8,
      "outputs": [
        {
          "output_type": "execute_result",
          "data": {
            "text/plain": [
              "                                                   review sentiment\n",
              "count                                               50000     50000\n",
              "unique                                              49582         2\n",
              "top     Loved today's show!!! It was a variety and not...  positive\n",
              "freq                                                    5     25000"
            ],
            "text/html": [
              "<div>\n",
              "<style scoped>\n",
              "    .dataframe tbody tr th:only-of-type {\n",
              "        vertical-align: middle;\n",
              "    }\n",
              "\n",
              "    .dataframe tbody tr th {\n",
              "        vertical-align: top;\n",
              "    }\n",
              "\n",
              "    .dataframe thead th {\n",
              "        text-align: right;\n",
              "    }\n",
              "</style>\n",
              "<table border=\"1\" class=\"dataframe\">\n",
              "  <thead>\n",
              "    <tr style=\"text-align: right;\">\n",
              "      <th></th>\n",
              "      <th>review</th>\n",
              "      <th>sentiment</th>\n",
              "    </tr>\n",
              "  </thead>\n",
              "  <tbody>\n",
              "    <tr>\n",
              "      <th>count</th>\n",
              "      <td>50000</td>\n",
              "      <td>50000</td>\n",
              "    </tr>\n",
              "    <tr>\n",
              "      <th>unique</th>\n",
              "      <td>49582</td>\n",
              "      <td>2</td>\n",
              "    </tr>\n",
              "    <tr>\n",
              "      <th>top</th>\n",
              "      <td>Loved today's show!!! It was a variety and not...</td>\n",
              "      <td>positive</td>\n",
              "    </tr>\n",
              "    <tr>\n",
              "      <th>freq</th>\n",
              "      <td>5</td>\n",
              "      <td>25000</td>\n",
              "    </tr>\n",
              "  </tbody>\n",
              "</table>\n",
              "</div>"
            ]
          },
          "metadata": {},
          "execution_count": 8
        }
      ]
    },
    {
      "cell_type": "code",
      "source": [
        "nltk.download('vader_lexicon')"
      ],
      "metadata": {
        "colab": {
          "base_uri": "https://localhost:8080/"
        },
        "id": "9ECW0xAiRbta",
        "outputId": "e41b0221-6d5d-4462-860c-c4c7ae2c2f91"
      },
      "execution_count": 9,
      "outputs": [
        {
          "output_type": "stream",
          "name": "stderr",
          "text": [
            "[nltk_data] Downloading package vader_lexicon to\n",
            "[nltk_data]     C:\\Users\\gamer\\AppData\\Roaming\\nltk_data...\n",
            "[nltk_data]   Package vader_lexicon is already up-to-date!\n"
          ]
        },
        {
          "output_type": "execute_result",
          "data": {
            "text/plain": [
              "True"
            ]
          },
          "metadata": {},
          "execution_count": 9
        }
      ]
    },
    {
      "cell_type": "code",
      "source": [
        "import nltk\n",
        "from nltk.sentiment.vader import SentimentIntensityAnalyzer\n",
        "\n",
        "# Download required NLTK resources\n",
        "nltk.download('vader_lexicon')\n",
        "nltk.download('punkt')\n",
        "\n",
        "# Initialize Sentiment Analyzer (once outside the loop for efficiency)\n",
        "sid = SentimentIntensityAnalyzer()\n",
        "\n",
        "# Create new columns for counts\n",
        "dataset['positive_count'] = 0\n",
        "dataset['negative_count'] = 0\n",
        "\n",
        "for index, row in dataset.iterrows():\n",
        "    review = row['review']\n",
        "\n",
        "    # Convert to string and tokenize\n",
        "    if isinstance(review, (list, tuple)):  # If review is stored as tokens\n",
        "        review_text = ' '.join(map(str, review))\n",
        "    else:  # If review is a string\n",
        "        review_text = str(review)\n",
        "\n",
        "    words = word_tokenize(review_text)\n",
        "\n",
        "    pos_count = 0\n",
        "    neg_count = 0\n",
        "\n",
        "    for word in words:\n",
        "        scores = sid.polarity_scores(word)\n",
        "\n",
        "        # Check positive condition\n",
        "        if scores['pos'] > max(scores['neg'], scores['neu']) and scores['pos'] > 0.1:\n",
        "            pos_count += 1\n",
        "        # Check negative condition\n",
        "        elif scores['neg'] > max(scores['pos'], scores['neu']) and scores['neg'] > 0.1:\n",
        "            neg_count += 1\n",
        "\n",
        "    # Store counts in DataFrame\n",
        "    dataset.at[index, 'positive_count'] = pos_count\n",
        "    dataset.at[index, 'negative_count'] = neg_count\n",
        "\n",
        "# Optional: View the results\n",
        "print(dataset[['review', 'positive_count', 'negative_count']].head())"
      ],
      "metadata": {
        "id": "vre4Fstb-e-n",
        "colab": {
          "base_uri": "https://localhost:8080/"
        },
        "outputId": "e859e480-a2f0-4a40-9dd9-5a59ef4c967c"
      },
      "execution_count": 10,
      "outputs": [
        {
          "output_type": "stream",
          "name": "stderr",
          "text": [
            "[nltk_data] Downloading package vader_lexicon to\n",
            "[nltk_data]     C:\\Users\\gamer\\AppData\\Roaming\\nltk_data...\n",
            "[nltk_data]   Package vader_lexicon is already up-to-date!\n",
            "[nltk_data] Downloading package punkt to\n",
            "[nltk_data]     C:\\Users\\gamer\\AppData\\Roaming\\nltk_data...\n",
            "[nltk_data]   Package punkt is already up-to-date!\n"
          ]
        },
        {
          "output_type": "stream",
          "name": "stdout",
          "text": [
            "                                              review  positive_count  \\\n",
            "0  One of the other reviewers has mentioned that ...               9   \n",
            "1  A wonderful little production. <br /><br />The...              12   \n",
            "2  I thought this was a wonderful way to spend ti...              14   \n",
            "3  Basically there's a family where a little boy ...               6   \n",
            "4  Petter Mattei's \"Love in the Time of Money\" is...              14   \n",
            "\n",
            "   negative_count  \n",
            "0              24  \n",
            "1               3  \n",
            "2               5  \n",
            "3               6  \n",
            "4               3  \n"
          ]
        }
      ]
    },
    {
      "cell_type": "code",
      "source": [
        "dataset.head(30)"
      ],
      "metadata": {
        "id": "JVuw2vy3HluL",
        "colab": {
          "base_uri": "https://localhost:8080/",
          "height": 990
        },
        "outputId": "a240c747-3f85-4ad8-d2be-ac65ee0da7f9"
      },
      "execution_count": 11,
      "outputs": [
        {
          "output_type": "execute_result",
          "data": {
            "text/plain": [
              "                                               review sentiment  \\\n",
              "0   One of the other reviewers has mentioned that ...  positive   \n",
              "1   A wonderful little production. <br /><br />The...  positive   \n",
              "2   I thought this was a wonderful way to spend ti...  positive   \n",
              "3   Basically there's a family where a little boy ...  negative   \n",
              "4   Petter Mattei's \"Love in the Time of Money\" is...  positive   \n",
              "5   Probably my all-time favorite movie, a story o...  positive   \n",
              "6   I sure would like to see a resurrection of a u...  positive   \n",
              "7   This show was an amazing, fresh & innovative i...  negative   \n",
              "8   Encouraged by the positive comments about this...  negative   \n",
              "9   If you like original gut wrenching laughter yo...  positive   \n",
              "10  Phil the Alien is one of those quirky films wh...  negative   \n",
              "11  I saw this movie when I was about 12 when it c...  negative   \n",
              "12  So im not a big fan of Boll's work but then ag...  negative   \n",
              "13  The cast played Shakespeare.<br /><br />Shakes...  negative   \n",
              "14  This a fantastic movie of three prisoners who ...  positive   \n",
              "15  Kind of drawn in by the erotic scenes, only to...  negative   \n",
              "16  Some films just simply should not be remade. T...  positive   \n",
              "17  This movie made it into one of my top 10 most ...  negative   \n",
              "18  I remember this film,it was the first film i h...  positive   \n",
              "19  An awful film! It must have been up against so...  negative   \n",
              "20  After the success of Die Hard and it's sequels...  positive   \n",
              "21  I had the terrible misfortune of having to vie...  negative   \n",
              "22  What an absolutely stunning movie, if you have...  positive   \n",
              "23  First of all, let's get a few things straight ...  negative   \n",
              "24  This was the worst movie I saw at WorldFest an...  negative   \n",
              "25  The Karen Carpenter Story shows a little more ...  positive   \n",
              "26  \"The Cell\" is an exotic masterpiece, a dizzyin...  positive   \n",
              "27  This film tried to be too many things all at o...  negative   \n",
              "28  This movie was so frustrating. Everything seem...  negative   \n",
              "29  'War movie' is a Hollywood genre that has been...  positive   \n",
              "\n",
              "    positive_count  negative_count  \n",
              "0                9              24  \n",
              "1               12               3  \n",
              "2               14               5  \n",
              "3                6               6  \n",
              "4               14               3  \n",
              "5                8               2  \n",
              "6                7               2  \n",
              "7               14               8  \n",
              "8                9               9  \n",
              "9                7               1  \n",
              "10               9               4  \n",
              "11               8               7  \n",
              "12              22              16  \n",
              "13               8               4  \n",
              "14               4               3  \n",
              "15               8              10  \n",
              "16               4               7  \n",
              "17               6              19  \n",
              "18               4               2  \n",
              "19               8               4  \n",
              "20              20              24  \n",
              "21               9              14  \n",
              "22               4               2  \n",
              "23              20              10  \n",
              "24               7               5  \n",
              "25              10               4  \n",
              "26              35              14  \n",
              "27               9              10  \n",
              "28               8               9  \n",
              "29              31              44  "
            ],
            "text/html": [
              "<div>\n",
              "<style scoped>\n",
              "    .dataframe tbody tr th:only-of-type {\n",
              "        vertical-align: middle;\n",
              "    }\n",
              "\n",
              "    .dataframe tbody tr th {\n",
              "        vertical-align: top;\n",
              "    }\n",
              "\n",
              "    .dataframe thead th {\n",
              "        text-align: right;\n",
              "    }\n",
              "</style>\n",
              "<table border=\"1\" class=\"dataframe\">\n",
              "  <thead>\n",
              "    <tr style=\"text-align: right;\">\n",
              "      <th></th>\n",
              "      <th>review</th>\n",
              "      <th>sentiment</th>\n",
              "      <th>positive_count</th>\n",
              "      <th>negative_count</th>\n",
              "    </tr>\n",
              "  </thead>\n",
              "  <tbody>\n",
              "    <tr>\n",
              "      <th>0</th>\n",
              "      <td>One of the other reviewers has mentioned that ...</td>\n",
              "      <td>positive</td>\n",
              "      <td>9</td>\n",
              "      <td>24</td>\n",
              "    </tr>\n",
              "    <tr>\n",
              "      <th>1</th>\n",
              "      <td>A wonderful little production. &lt;br /&gt;&lt;br /&gt;The...</td>\n",
              "      <td>positive</td>\n",
              "      <td>12</td>\n",
              "      <td>3</td>\n",
              "    </tr>\n",
              "    <tr>\n",
              "      <th>2</th>\n",
              "      <td>I thought this was a wonderful way to spend ti...</td>\n",
              "      <td>positive</td>\n",
              "      <td>14</td>\n",
              "      <td>5</td>\n",
              "    </tr>\n",
              "    <tr>\n",
              "      <th>3</th>\n",
              "      <td>Basically there's a family where a little boy ...</td>\n",
              "      <td>negative</td>\n",
              "      <td>6</td>\n",
              "      <td>6</td>\n",
              "    </tr>\n",
              "    <tr>\n",
              "      <th>4</th>\n",
              "      <td>Petter Mattei's \"Love in the Time of Money\" is...</td>\n",
              "      <td>positive</td>\n",
              "      <td>14</td>\n",
              "      <td>3</td>\n",
              "    </tr>\n",
              "    <tr>\n",
              "      <th>5</th>\n",
              "      <td>Probably my all-time favorite movie, a story o...</td>\n",
              "      <td>positive</td>\n",
              "      <td>8</td>\n",
              "      <td>2</td>\n",
              "    </tr>\n",
              "    <tr>\n",
              "      <th>6</th>\n",
              "      <td>I sure would like to see a resurrection of a u...</td>\n",
              "      <td>positive</td>\n",
              "      <td>7</td>\n",
              "      <td>2</td>\n",
              "    </tr>\n",
              "    <tr>\n",
              "      <th>7</th>\n",
              "      <td>This show was an amazing, fresh &amp; innovative i...</td>\n",
              "      <td>negative</td>\n",
              "      <td>14</td>\n",
              "      <td>8</td>\n",
              "    </tr>\n",
              "    <tr>\n",
              "      <th>8</th>\n",
              "      <td>Encouraged by the positive comments about this...</td>\n",
              "      <td>negative</td>\n",
              "      <td>9</td>\n",
              "      <td>9</td>\n",
              "    </tr>\n",
              "    <tr>\n",
              "      <th>9</th>\n",
              "      <td>If you like original gut wrenching laughter yo...</td>\n",
              "      <td>positive</td>\n",
              "      <td>7</td>\n",
              "      <td>1</td>\n",
              "    </tr>\n",
              "    <tr>\n",
              "      <th>10</th>\n",
              "      <td>Phil the Alien is one of those quirky films wh...</td>\n",
              "      <td>negative</td>\n",
              "      <td>9</td>\n",
              "      <td>4</td>\n",
              "    </tr>\n",
              "    <tr>\n",
              "      <th>11</th>\n",
              "      <td>I saw this movie when I was about 12 when it c...</td>\n",
              "      <td>negative</td>\n",
              "      <td>8</td>\n",
              "      <td>7</td>\n",
              "    </tr>\n",
              "    <tr>\n",
              "      <th>12</th>\n",
              "      <td>So im not a big fan of Boll's work but then ag...</td>\n",
              "      <td>negative</td>\n",
              "      <td>22</td>\n",
              "      <td>16</td>\n",
              "    </tr>\n",
              "    <tr>\n",
              "      <th>13</th>\n",
              "      <td>The cast played Shakespeare.&lt;br /&gt;&lt;br /&gt;Shakes...</td>\n",
              "      <td>negative</td>\n",
              "      <td>8</td>\n",
              "      <td>4</td>\n",
              "    </tr>\n",
              "    <tr>\n",
              "      <th>14</th>\n",
              "      <td>This a fantastic movie of three prisoners who ...</td>\n",
              "      <td>positive</td>\n",
              "      <td>4</td>\n",
              "      <td>3</td>\n",
              "    </tr>\n",
              "    <tr>\n",
              "      <th>15</th>\n",
              "      <td>Kind of drawn in by the erotic scenes, only to...</td>\n",
              "      <td>negative</td>\n",
              "      <td>8</td>\n",
              "      <td>10</td>\n",
              "    </tr>\n",
              "    <tr>\n",
              "      <th>16</th>\n",
              "      <td>Some films just simply should not be remade. T...</td>\n",
              "      <td>positive</td>\n",
              "      <td>4</td>\n",
              "      <td>7</td>\n",
              "    </tr>\n",
              "    <tr>\n",
              "      <th>17</th>\n",
              "      <td>This movie made it into one of my top 10 most ...</td>\n",
              "      <td>negative</td>\n",
              "      <td>6</td>\n",
              "      <td>19</td>\n",
              "    </tr>\n",
              "    <tr>\n",
              "      <th>18</th>\n",
              "      <td>I remember this film,it was the first film i h...</td>\n",
              "      <td>positive</td>\n",
              "      <td>4</td>\n",
              "      <td>2</td>\n",
              "    </tr>\n",
              "    <tr>\n",
              "      <th>19</th>\n",
              "      <td>An awful film! It must have been up against so...</td>\n",
              "      <td>negative</td>\n",
              "      <td>8</td>\n",
              "      <td>4</td>\n",
              "    </tr>\n",
              "    <tr>\n",
              "      <th>20</th>\n",
              "      <td>After the success of Die Hard and it's sequels...</td>\n",
              "      <td>positive</td>\n",
              "      <td>20</td>\n",
              "      <td>24</td>\n",
              "    </tr>\n",
              "    <tr>\n",
              "      <th>21</th>\n",
              "      <td>I had the terrible misfortune of having to vie...</td>\n",
              "      <td>negative</td>\n",
              "      <td>9</td>\n",
              "      <td>14</td>\n",
              "    </tr>\n",
              "    <tr>\n",
              "      <th>22</th>\n",
              "      <td>What an absolutely stunning movie, if you have...</td>\n",
              "      <td>positive</td>\n",
              "      <td>4</td>\n",
              "      <td>2</td>\n",
              "    </tr>\n",
              "    <tr>\n",
              "      <th>23</th>\n",
              "      <td>First of all, let's get a few things straight ...</td>\n",
              "      <td>negative</td>\n",
              "      <td>20</td>\n",
              "      <td>10</td>\n",
              "    </tr>\n",
              "    <tr>\n",
              "      <th>24</th>\n",
              "      <td>This was the worst movie I saw at WorldFest an...</td>\n",
              "      <td>negative</td>\n",
              "      <td>7</td>\n",
              "      <td>5</td>\n",
              "    </tr>\n",
              "    <tr>\n",
              "      <th>25</th>\n",
              "      <td>The Karen Carpenter Story shows a little more ...</td>\n",
              "      <td>positive</td>\n",
              "      <td>10</td>\n",
              "      <td>4</td>\n",
              "    </tr>\n",
              "    <tr>\n",
              "      <th>26</th>\n",
              "      <td>\"The Cell\" is an exotic masterpiece, a dizzyin...</td>\n",
              "      <td>positive</td>\n",
              "      <td>35</td>\n",
              "      <td>14</td>\n",
              "    </tr>\n",
              "    <tr>\n",
              "      <th>27</th>\n",
              "      <td>This film tried to be too many things all at o...</td>\n",
              "      <td>negative</td>\n",
              "      <td>9</td>\n",
              "      <td>10</td>\n",
              "    </tr>\n",
              "    <tr>\n",
              "      <th>28</th>\n",
              "      <td>This movie was so frustrating. Everything seem...</td>\n",
              "      <td>negative</td>\n",
              "      <td>8</td>\n",
              "      <td>9</td>\n",
              "    </tr>\n",
              "    <tr>\n",
              "      <th>29</th>\n",
              "      <td>'War movie' is a Hollywood genre that has been...</td>\n",
              "      <td>positive</td>\n",
              "      <td>31</td>\n",
              "      <td>44</td>\n",
              "    </tr>\n",
              "  </tbody>\n",
              "</table>\n",
              "</div>"
            ]
          },
          "metadata": {},
          "execution_count": 11
        }
      ]
    },
    {
      "cell_type": "markdown",
      "source": [
        "# **Formula to Calculate the Rating according to number of Positive and Negative Counts**"
      ],
      "metadata": {
        "id": "CIbXpN7pO81C"
      }
    },
    {
      "cell_type": "code",
      "source": [
        "# Calculate ratings\n",
        "def calculate_rating(row):\n",
        "    pos = row['positive_count']\n",
        "    neg = row['negative_count']\n",
        "    total = pos + neg + 1e-9\n",
        "    raw_score = ((pos - neg) / total) * 5 + 5\n",
        "    return np.clip(raw_score, 5, 10)\n",
        "\n",
        "dataset['rating'] = dataset.apply(calculate_rating, axis=1)\n",
        "dataset['rating'] = dataset['rating'].round(0)\n",
        "\n",
        "print(dataset[['sentiment','positive_count', 'negative_count', 'rating']])"
      ],
      "metadata": {
        "colab": {
          "base_uri": "https://localhost:8080/"
        },
        "id": "AZr38iNK9sDE",
        "outputId": "a3940af8-a4c8-4222-e5d3-8d91e9cb9ba2"
      },
      "execution_count": 12,
      "outputs": [
        {
          "output_type": "stream",
          "name": "stdout",
          "text": [
            "      sentiment  positive_count  negative_count  rating\n",
            "0      positive               9              24     5.0\n",
            "1      positive              12               3     8.0\n",
            "2      positive              14               5     7.0\n",
            "3      negative               6               6     5.0\n",
            "4      positive              14               3     8.0\n",
            "...         ...             ...             ...     ...\n",
            "49995  positive              14               3     8.0\n",
            "49996  negative               9               9     5.0\n",
            "49997  negative              15              11     6.0\n",
            "49998  negative               7               7     5.0\n",
            "49999  negative               9               4     7.0\n",
            "\n",
            "[50000 rows x 4 columns]\n"
          ]
        }
      ]
    },
    {
      "cell_type": "code",
      "source": [
        "dataset.rating.value_counts().plot(kind = \"pie\", legend = False, autopct = \"%1.2f%%\", fontsize = 10, figsize=(8,8))\n",
        "plt.title(\"Percentages of Ratings Given from The Customers\", loc = \"center\")\n",
        "plt.show()"
      ],
      "metadata": {
        "colab": {
          "base_uri": "https://localhost:8080/",
          "height": 675
        },
        "collapsed": true,
        "id": "wMYpGArSLnEa",
        "outputId": "ac2fafaa-0e99-4a92-ee2c-2e441de8aed9"
      },
      "execution_count": 13,
      "outputs": [
        {
          "output_type": "display_data",
          "data": {
            "text/plain": [
              "<Figure size 800x800 with 1 Axes>"
            ],
            "image/png": "[encoded data removed]"
          },
          "metadata": {}
        }
      ]
    },
    {
      "cell_type": "code",
      "source": [
        "dataset[\"sentiment\"].value_counts().plot(kind = \"bar\", color = \"blue\")\n",
        "plt.title(\"Amount of Each Sentiments Based On Rating Given\", loc = \"center\", fontsize = 15, color = \"red\", pad = 25)\n",
        "plt.xlabel(\"Sentiments\", color = \"green\", fontsize = 10, labelpad = 15)\n",
        "plt.xticks(rotation = 0)\n",
        "plt.ylabel(\"Amount of Sentiments\", color = \"green\", fontsize = 10, labelpad = 15)\n",
        "plt.show()"
      ],
      "metadata": {
        "colab": {
          "base_uri": "https://localhost:8080/",
          "height": 515
        },
        "id": "k_WQaczJPnYL",
        "outputId": "38364cdc-1dbe-4e4e-ea1b-a10a8aaf17f6"
      },
      "execution_count": 14,
      "outputs": [
        {
          "output_type": "display_data",
          "data": {
            "text/plain": [
              "<Figure size 640x480 with 1 Axes>"
            ],
            "image/png": "[encoded data removed]"
          },
          "metadata": {}
        }
      ]
    },
    {
      "cell_type": "code",
      "source": [
        "from nltk.stem import PorterStemmer, WordNetLemmatizer"
      ],
      "metadata": {
        "id": "JjbmQUMmSc7E"
      },
      "execution_count": 15,
      "outputs": []
    },
    {
      "cell_type": "code",
      "source": [
        "punctuation = string.punctuation\n",
        "stopwords = nltk.corpus.stopwords.words('english')\n",
        "st = PorterStemmer()\n",
        "lm = WordNetLemmatizer()"
      ],
      "metadata": {
        "id": "dxMNo7lVSVbO"
      },
      "execution_count": 16,
      "outputs": []
    },
    {
      "cell_type": "code",
      "source": [
        "def clean_text(text):\n",
        "    text = \"\".join([char.lower() for char in text if char not in punctuation])\n",
        "    tokens = re.split(r'\\W+', text)\n",
        "    text = \" \".join([lm.lemmatize(char) for char in tokens if char.lower() not in stopwords])\n",
        "    return text"
      ],
      "metadata": {
        "id": "mfDcYtDqSjEk"
      },
      "execution_count": 17,
      "outputs": []
    },
    {
      "cell_type": "code",
      "source": [
        "X = dataset['review'].apply(lambda x: clean_text(x))"
      ],
      "metadata": {
        "id": "PUpO4IwkS1Hk"
      },
      "execution_count": 18,
      "outputs": []
    },
    {
      "cell_type": "code",
      "source": [
        "Y = dataset['sentiment'].apply(lambda x: 1 if x == 'positive' else 0)"
      ],
      "metadata": {
        "id": "mIj6x4mzTKv0"
      },
      "execution_count": 19,
      "outputs": []
    },
    {
      "cell_type": "code",
      "source": [
        "from sklearn.model_selection import train_test_split\n",
        "X_train,X_test,Y_train,Y_test = train_test_split(X,Y,test_size=0.25)"
      ],
      "metadata": {
        "id": "K9OoyLaWTdfk"
      },
      "execution_count": 20,
      "outputs": []
    },
    {
      "cell_type": "code",
      "source": [
        "from tensorflow.keras.models import Sequential\n",
        "from tensorflow.keras.layers import Dense,LSTM,Embedding,TextVectorization, Dropout"
      ],
      "metadata": {
        "id": "vQLubvbKTg-0"
      },
      "execution_count": 21,
      "outputs": []
    },
    {
      "cell_type": "code",
      "source": [
        "vocab_size = 10000\n",
        "max_len = 300\n",
        "vectorize_layer = TextVectorization(\n",
        " max_tokens=vocab_size,\n",
        " output_mode='int',\n",
        " output_sequence_length=max_len)"
      ],
      "metadata": {
        "id": "lVXCDSh8Txzs"
      },
      "execution_count": 22,
      "outputs": []
    },
    {
      "cell_type": "code",
      "source": [
        "# build the vocabulary\n",
        "vectorize_layer.adapt(X_train)"
      ],
      "metadata": {
        "id": "gBSG_lhUUalE"
      },
      "execution_count": 23,
      "outputs": []
    },
    {
      "cell_type": "code",
      "source": [
        "# Stopwords\n",
        "Stopwords = set(nltk.corpus.stopwords.words(\"english\")) - set([\"not\"])\n",
        "print(Stopwords)\n",
        "\n",
        "# def Text_Processing(Text):\n",
        "#   Processed_Text = list()\n",
        "#   Lemmatizer = WordNetLemmatizer()\n",
        "\n",
        "#   # Tokens of Words\n",
        "#   Tokens = nltk.word_tokenize(Text)\n",
        "\n",
        "#   # Removing Stopwords and Lemmatizing Words\n",
        "#   # To reduce noises in our dataset, also to keep it simple and still\n",
        "#   # powerful, we will only omit the word `not` from the list of stopwords\n",
        "\n",
        "#   for word in Tokens:\n",
        "#     if word not in Stopwords:\n",
        "#       Processed_Text.append(Lemmatizer.lemmatize(word))\n",
        "\n",
        "#   return(\" \".join(Processed_Text))"
      ],
      "metadata": {
        "id": "Fl6VSp5cReo8",
        "colab": {
          "base_uri": "https://localhost:8080/"
        },
        "outputId": "27b3fc32-50a5-4296-c5e6-bf78fa4ce8b1"
      },
      "execution_count": 24,
      "outputs": [
        {
          "output_type": "stream",
          "name": "stdout",
          "text": [
            "{'into', 'own', 'that', \"we're\", \"they'd\", \"they've\", 'after', 'ain', 'herself', \"we'd\", 'in', 'was', 'ma', 'below', 'by', 'an', \"you've\", 'her', 'between', 'here', 'where', 'if', 'above', 'their', 'being', \"it's\", 'while', 'before', 'mightn', 'about', 'more', 'yourself', 'other', 'itself', 'than', \"don't\", 'haven', 'yourselves', 'all', 'its', \"you'll\", 'll', \"we'll\", 'any', 'from', 'can', 'your', 'both', \"wouldn't\", 'now', 'just', 'the', 'his', 'i', \"i'm\", \"we've\", 'shouldn', 'up', \"couldn't\", 'didn', 'm', 'with', 'these', 'very', 'did', \"i've\", 'o', 'will', \"shan't\", 'had', 'aren', 'it', 'there', 'off', 'don', 'were', \"he'll\", 'mustn', 'no', \"should've\", 'then', 'few', \"aren't\", 'won', \"they'll\", 'is', 're', 'myself', 'hasn', 'shan', 'so', 'they', \"weren't\", \"it'll\", 'theirs', 'too', \"she'd\", 'couldn', 'am', 'what', 'nor', 'you', 'again', \"he's\", \"shouldn't\", 'him', 's', 'this', 'because', 'once', 'most', 'has', 'down', \"isn't\", \"he'd\", 'she', 'each', 'at', \"you'd\", 'ourselves', \"hasn't\", 'wouldn', 'how', 'we', 'hadn', 'such', 'been', \"mustn't\", 'having', 'them', 'd', \"needn't\", 't', \"that'll\", \"won't\", 'over', 'some', 'under', 'same', 'why', \"didn't\", 'ours', 'he', 'but', 'himself', 'y', 'only', \"she's\", 'those', \"wasn't\", 'when', 'for', \"i'd\", 'on', 'hers', 'out', \"she'll\", 'does', \"they're\", \"hadn't\", 'until', 'wasn', 'doesn', \"mightn't\", 'weren', 'are', 'through', 'my', 'which', \"doesn't\", 'further', 'a', \"it'd\", 'and', 'our', 'should', \"haven't\", 'whom', 'have', 'do', 'me', 'themselves', \"you're\", 've', 'to', 'yours', 'who', 'or', 'doing', 'of', 'be', 'isn', \"i'll\", 'during', 'against', 'needn', 'as'}\n"
          ]
        }
      ]
    },
    {
      "cell_type": "code",
      "source": [
        "from tensorflow.keras.layers import Input"
      ],
      "metadata": {
        "id": "GtkQTCYyVpwF"
      },
      "execution_count": 25,
      "outputs": []
    },
    {
      "cell_type": "code",
      "source": [
        "model = Sequential()\n",
        "model.add(Input(shape=(1,), dtype=string))\n",
        "\n",
        "model.add(vectorize_layer)\n",
        "model.add(Embedding(vocab_size, 100))\n",
        "model.add(LSTM(100))\n",
        "model.add(Dense(64,activation='relu'))\n",
        "model.add(Dropout(0.5))\n",
        "model.add(Dense(1,activation='sigmoid'))\n",
        "model.summary()"
      ],
      "metadata": {
        "colab": {
          "base_uri": "https://localhost:8080/",
          "height": 337
        },
        "id": "kIahKe9yU6pk",
        "outputId": "32fae7b0-2eaa-4096-db90-d25edeb8a38d"
      },
      "execution_count": 26,
      "outputs": [
        {
          "output_type": "display_data",
          "data": {
            "text/plain": [
              "\u001b[1mModel: \"sequential\"\u001b[0m\n"
            ],
            "text/html": [
              "<pre style=\"white-space:pre;overflow-x:auto;line-height:normal;font-family:Menlo,'DejaVu Sans Mono',consolas,'Courier New',monospace\"><span style=\"font-weight: bold\">Model: \"sequential\"</span>\n",
              "</pre>\n"
            ]
          },
          "metadata": {}
        },
        {
          "output_type": "display_data",
          "data": {
            "text/plain": [
              "┏━━━━━━━━━━━━━━━━━━━━━━━━━━━━━━━━━━━━━━┳━━━━━━━━━━━━━━━━━━━━━━━━━━━━━┳━━━━━━━━━━━━━━━━━┓\n",
              "┃\u001b[1m \u001b[0m\u001b[1mLayer (type)                        \u001b[0m\u001b[1m \u001b[0m┃\u001b[1m \u001b[0m\u001b[1mOutput Shape               \u001b[0m\u001b[1m \u001b[0m┃\u001b[1m \u001b[0m\u001b[1m        Param #\u001b[0m\u001b[1m \u001b[0m┃\n",
              "┡━━━━━━━━━━━━━━━━━━━━━━━━━━━━━━━━━━━━━━╇━━━━━━━━━━━━━━━━━━━━━━━━━━━━━╇━━━━━━━━━━━━━━━━━┩\n",
              "│ text_vectorization                   │ (\u001b[38;5;45mNone\u001b[0m, \u001b[38;5;34m300\u001b[0m)                 │               \u001b[38;5;34m0\u001b[0m │\n",
              "│ (\u001b[38;5;33mTextVectorization\u001b[0m)                  │                             │                 │\n",
              "├──────────────────────────────────────┼─────────────────────────────┼─────────────────┤\n",
              "│ embedding (\u001b[38;5;33mEmbedding\u001b[0m)                │ (\u001b[38;5;45mNone\u001b[0m, \u001b[38;5;34m300\u001b[0m, \u001b[38;5;34m100\u001b[0m)            │       \u001b[38;5;34m1,000,000\u001b[0m │\n",
              "├──────────────────────────────────────┼─────────────────────────────┼─────────────────┤\n",
              "│ lstm (\u001b[38;5;33mLSTM\u001b[0m)                          │ (\u001b[38;5;45mNone\u001b[0m, \u001b[38;5;34m100\u001b[0m)                 │          \u001b[38;5;34m80,400\u001b[0m │\n",
              "├──────────────────────────────────────┼─────────────────────────────┼─────────────────┤\n",
              "│ dense (\u001b[38;5;33mDense\u001b[0m)                        │ (\u001b[38;5;45mNone\u001b[0m, \u001b[38;5;34m64\u001b[0m)                  │           \u001b[38;5;34m6,464\u001b[0m │\n",
              "├──────────────────────────────────────┼─────────────────────────────┼─────────────────┤\n",
              "│ dropout (\u001b[38;5;33mDropout\u001b[0m)                    │ (\u001b[38;5;45mNone\u001b[0m, \u001b[38;5;34m64\u001b[0m)                  │               \u001b[38;5;34m0\u001b[0m │\n",
              "├──────────────────────────────────────┼─────────────────────────────┼─────────────────┤\n",
              "│ dense_1 (\u001b[38;5;33mDense\u001b[0m)                      │ (\u001b[38;5;45mNone\u001b[0m, \u001b[38;5;34m1\u001b[0m)                   │              \u001b[38;5;34m65\u001b[0m │\n",
              "└──────────────────────────────────────┴─────────────────────────────┴─────────────────┘\n"
            ],
            "text/html": [
              "<pre style=\"white-space:pre;overflow-x:auto;line-height:normal;font-family:Menlo,'DejaVu Sans Mono',consolas,'Courier New',monospace\">┏━━━━━━━━━━━━━━━━━━━━━━━━━━━━━━━━━━━━━━┳━━━━━━━━━━━━━━━━━━━━━━━━━━━━━┳━━━━━━━━━━━━━━━━━┓\n",
              "┃<span style=\"font-weight: bold\"> Layer (type)                         </span>┃<span style=\"font-weight: bold\"> Output Shape                </span>┃<span style=\"font-weight: bold\">         Param # </span>┃\n",
              "┡━━━━━━━━━━━━━━━━━━━━━━━━━━━━━━━━━━━━━━╇━━━━━━━━━━━━━━━━━━━━━━━━━━━━━╇━━━━━━━━━━━━━━━━━┩\n",
              "│ text_vectorization                   │ (<span style=\"color: #00d7ff; text-decoration-color: #00d7ff\">None</span>, <span style=\"color: #00af00; text-decoration-color: #00af00\">300</span>)                 │               <span style=\"color: #00af00; text-decoration-color: #00af00\">0</span> │\n",
              "│ (<span style=\"color: #0087ff; text-decoration-color: #0087ff\">TextVectorization</span>)                  │                             │                 │\n",
              "├──────────────────────────────────────┼─────────────────────────────┼─────────────────┤\n",
              "│ embedding (<span style=\"color: #0087ff; text-decoration-color: #0087ff\">Embedding</span>)                │ (<span style=\"color: #00d7ff; text-decoration-color: #00d7ff\">None</span>, <span style=\"color: #00af00; text-decoration-color: #00af00\">300</span>, <span style=\"color: #00af00; text-decoration-color: #00af00\">100</span>)            │       <span style=\"color: #00af00; text-decoration-color: #00af00\">1,000,000</span> │\n",
              "├──────────────────────────────────────┼─────────────────────────────┼─────────────────┤\n",
              "│ lstm (<span style=\"color: #0087ff; text-decoration-color: #0087ff\">LSTM</span>)                          │ (<span style=\"color: #00d7ff; text-decoration-color: #00d7ff\">None</span>, <span style=\"color: #00af00; text-decoration-color: #00af00\">100</span>)                 │          <span style=\"color: #00af00; text-decoration-color: #00af00\">80,400</span> │\n",
              "├──────────────────────────────────────┼─────────────────────────────┼─────────────────┤\n",
              "│ dense (<span style=\"color: #0087ff; text-decoration-color: #0087ff\">Dense</span>)                        │ (<span style=\"color: #00d7ff; text-decoration-color: #00d7ff\">None</span>, <span style=\"color: #00af00; text-decoration-color: #00af00\">64</span>)                  │           <span style=\"color: #00af00; text-decoration-color: #00af00\">6,464</span> │\n",
              "├──────────────────────────────────────┼─────────────────────────────┼─────────────────┤\n",
              "│ dropout (<span style=\"color: #0087ff; text-decoration-color: #0087ff\">Dropout</span>)                    │ (<span style=\"color: #00d7ff; text-decoration-color: #00d7ff\">None</span>, <span style=\"color: #00af00; text-decoration-color: #00af00\">64</span>)                  │               <span style=\"color: #00af00; text-decoration-color: #00af00\">0</span> │\n",
              "├──────────────────────────────────────┼─────────────────────────────┼─────────────────┤\n",
              "│ dense_1 (<span style=\"color: #0087ff; text-decoration-color: #0087ff\">Dense</span>)                      │ (<span style=\"color: #00d7ff; text-decoration-color: #00d7ff\">None</span>, <span style=\"color: #00af00; text-decoration-color: #00af00\">1</span>)                   │              <span style=\"color: #00af00; text-decoration-color: #00af00\">65</span> │\n",
              "└──────────────────────────────────────┴─────────────────────────────┴─────────────────┘\n",
              "</pre>\n"
            ]
          },
          "metadata": {}
        },
        {
          "output_type": "display_data",
          "data": {
            "text/plain": [
              "\u001b[1m Total params: \u001b[0m\u001b[38;5;34m1,086,929\u001b[0m (4.15 MB)\n"
            ],
            "text/html": [
              "<pre style=\"white-space:pre;overflow-x:auto;line-height:normal;font-family:Menlo,'DejaVu Sans Mono',consolas,'Courier New',monospace\"><span style=\"font-weight: bold\"> Total params: </span><span style=\"color: #00af00; text-decoration-color: #00af00\">1,086,929</span> (4.15 MB)\n",
              "</pre>\n"
            ]
          },
          "metadata": {}
        },
        {
          "output_type": "display_data",
          "data": {
            "text/plain": [
              "\u001b[1m Trainable params: \u001b[0m\u001b[38;5;34m1,086,929\u001b[0m (4.15 MB)\n"
            ],
            "text/html": [
              "<pre style=\"white-space:pre;overflow-x:auto;line-height:normal;font-family:Menlo,'DejaVu Sans Mono',consolas,'Courier New',monospace\"><span style=\"font-weight: bold\"> Trainable params: </span><span style=\"color: #00af00; text-decoration-color: #00af00\">1,086,929</span> (4.15 MB)\n",
              "</pre>\n"
            ]
          },
          "metadata": {}
        },
        {
          "output_type": "display_data",
          "data": {
            "text/plain": [
              "\u001b[1m Non-trainable params: \u001b[0m\u001b[38;5;34m0\u001b[0m (0.00 B)\n"
            ],
            "text/html": [
              "<pre style=\"white-space:pre;overflow-x:auto;line-height:normal;font-family:Menlo,'DejaVu Sans Mono',consolas,'Courier New',monospace\"><span style=\"font-weight: bold\"> Non-trainable params: </span><span style=\"color: #00af00; text-decoration-color: #00af00\">0</span> (0.00 B)\n",
              "</pre>\n"
            ]
          },
          "metadata": {}
        }
      ]
    },
    {
      "cell_type": "code",
      "source": [
        "model.compile(optimizer='adam',\n",
        "              loss='binary_crossentropy',\n",
        "              metrics=['accuracy'])"
      ],
      "metadata": {
        "id": "0l_oMgMTWC9k"
      },
      "execution_count": 27,
      "outputs": []
    },
    {
      "cell_type": "code",
      "source": [
        "history = model.fit(X_train,Y_train,validation_data=(X_test,Y_test),batch_size=32,epochs=20)"
      ],
      "metadata": {
        "colab": {
          "base_uri": "https://localhost:8080/"
        },
        "id": "MvFcDQGNVyWs",
        "outputId": "f0ee0d16-6a61-454d-dd6a-146ff55cb61f"
      },
      "execution_count": 28,
      "outputs": [
        {
          "output_type": "stream",
          "name": "stdout",
          "text": [
            "Epoch 1/20\n",
            "\u001b[1m1172/1172\u001b[0m \u001b[32m━━━━━━━━━━━━━━━━━━━━\u001b[0m\u001b[37m\u001b[0m \u001b[1m210s\u001b[0m 176ms/step - accuracy: 0.5039 - loss: 0.6949 - val_accuracy: 0.5046 - val_loss: 0.6935\n",
            "Epoch 2/20\n",
            "\u001b[1m1172/1172\u001b[0m \u001b[32m━━━━━━━━━━━━━━━━━━━━\u001b[0m\u001b[37m\u001b[0m \u001b[1m228s\u001b[0m 195ms/step - accuracy: 0.5063 - loss: 0.6934 - val_accuracy: 0.5051 - val_loss: 0.6928\n",
            "Epoch 3/20\n",
            "\u001b[1m1172/1172\u001b[0m \u001b[32m━━━━━━━━━━━━━━━━━━━━\u001b[0m\u001b[37m\u001b[0m \u001b[1m217s\u001b[0m 185ms/step - accuracy: 0.5102 - loss: 0.6915 - val_accuracy: 0.5117 - val_loss: 0.6896\n",
            "Epoch 4/20\n",
            "\u001b[1m1172/1172\u001b[0m \u001b[32m━━━━━━━━━━━━━━━━━━━━\u001b[0m\u001b[37m\u001b[0m \u001b[1m220s\u001b[0m 188ms/step - accuracy: 0.5236 - loss: 0.6720 - val_accuracy: 0.7976 - val_loss: 0.4589\n",
            "Epoch 5/20\n",
            "\u001b[1m1172/1172\u001b[0m \u001b[32m━━━━━━━━━━━━━━━━━━━━\u001b[0m\u001b[37m\u001b[0m \u001b[1m213s\u001b[0m 182ms/step - accuracy: 0.8543 - loss: 0.3612 - val_accuracy: 0.8716 - val_loss: 0.3061\n",
            "Epoch 6/20\n",
            "\u001b[1m1172/1172\u001b[0m \u001b[32m━━━━━━━━━━━━━━━━━━━━\u001b[0m\u001b[37m\u001b[0m \u001b[1m203s\u001b[0m 173ms/step - accuracy: 0.9311 - loss: 0.1973 - val_accuracy: 0.8821 - val_loss: 0.2963\n",
            "Epoch 7/20\n",
            "\u001b[1m1172/1172\u001b[0m \u001b[32m━━━━━━━━━━━━━━━━━━━━\u001b[0m\u001b[37m\u001b[0m \u001b[1m250s\u001b[0m 213ms/step - accuracy: 0.9602 - loss: 0.1242 - val_accuracy: 0.8827 - val_loss: 0.3254\n",
            "Epoch 8/20\n",
            "\u001b[1m1172/1172\u001b[0m \u001b[32m━━━━━━━━━━━━━━━━━━━━\u001b[0m\u001b[37m\u001b[0m \u001b[1m225s\u001b[0m 192ms/step - accuracy: 0.9755 - loss: 0.0851 - val_accuracy: 0.8798 - val_loss: 0.4126\n",
            "Epoch 9/20\n",
            "\u001b[1m1172/1172\u001b[0m \u001b[32m━━━━━━━━━━━━━━━━━━━━\u001b[0m\u001b[37m\u001b[0m \u001b[1m199s\u001b[0m 170ms/step - accuracy: 0.9852 - loss: 0.0559 - val_accuracy: 0.8753 - val_loss: 0.4834\n",
            "Epoch 10/20\n",
            "\u001b[1m1172/1172\u001b[0m \u001b[32m━━━━━━━━━━━━━━━━━━━━\u001b[0m\u001b[37m\u001b[0m \u001b[1m197s\u001b[0m 168ms/step - accuracy: 0.9912 - loss: 0.0371 - val_accuracy: 0.8708 - val_loss: 0.5346\n",
            "Epoch 11/20\n",
            "\u001b[1m1172/1172\u001b[0m \u001b[32m━━━━━━━━━━━━━━━━━━━━\u001b[0m\u001b[37m\u001b[0m \u001b[1m195s\u001b[0m 166ms/step - accuracy: 0.9941 - loss: 0.0241 - val_accuracy: 0.8687 - val_loss: 0.5707\n",
            "Epoch 12/20\n",
            "\u001b[1m1172/1172\u001b[0m \u001b[32m━━━━━━━━━━━━━━━━━━━━\u001b[0m\u001b[37m\u001b[0m \u001b[1m222s\u001b[0m 190ms/step - accuracy: 0.9941 - loss: 0.0253 - val_accuracy: 0.8722 - val_loss: 0.6164\n",
            "Epoch 13/20\n",
            "\u001b[1m1172/1172\u001b[0m \u001b[32m━━━━━━━━━━━━━━━━━━━━\u001b[0m\u001b[37m\u001b[0m \u001b[1m235s\u001b[0m 201ms/step - accuracy: 0.9957 - loss: 0.0187 - val_accuracy: 0.8729 - val_loss: 0.6742\n",
            "Epoch 14/20\n",
            "\u001b[1m1172/1172\u001b[0m \u001b[32m━━━━━━━━━━━━━━━━━━━━\u001b[0m\u001b[37m\u001b[0m \u001b[1m219s\u001b[0m 187ms/step - accuracy: 0.9962 - loss: 0.0155 - val_accuracy: 0.8685 - val_loss: 0.7260\n",
            "Epoch 15/20\n",
            "\u001b[1m1172/1172\u001b[0m \u001b[32m━━━━━━━━━━━━━━━━━━━━\u001b[0m\u001b[37m\u001b[0m \u001b[1m186s\u001b[0m 158ms/step - accuracy: 0.9967 - loss: 0.0146 - val_accuracy: 0.8644 - val_loss: 0.6716\n",
            "Epoch 16/20\n",
            "\u001b[1m1172/1172\u001b[0m \u001b[32m━━━━━━━━━━━━━━━━━━━━\u001b[0m\u001b[37m\u001b[0m \u001b[1m156s\u001b[0m 133ms/step - accuracy: 0.9974 - loss: 0.0119 - val_accuracy: 0.8651 - val_loss: 0.7683\n",
            "Epoch 17/20\n",
            "\u001b[1m1172/1172\u001b[0m \u001b[32m━━━━━━━━━━━━━━━━━━━━\u001b[0m\u001b[37m\u001b[0m \u001b[1m156s\u001b[0m 133ms/step - accuracy: 0.9983 - loss: 0.0078 - val_accuracy: 0.8675 - val_loss: 0.7686\n",
            "Epoch 18/20\n",
            "\u001b[1m1172/1172\u001b[0m \u001b[32m━━━━━━━━━━━━━━━━━━━━\u001b[0m\u001b[37m\u001b[0m \u001b[1m170s\u001b[0m 145ms/step - accuracy: 0.9982 - loss: 0.0095 - val_accuracy: 0.8669 - val_loss: 0.7867\n",
            "Epoch 19/20\n",
            "\u001b[1m1172/1172\u001b[0m \u001b[32m━━━━━━━━━━━━━━━━━━━━\u001b[0m\u001b[37m\u001b[0m \u001b[1m172s\u001b[0m 147ms/step - accuracy: 0.9986 - loss: 0.0080 - val_accuracy: 0.8708 - val_loss: 0.7541\n",
            "Epoch 20/20\n",
            "\u001b[1m1172/1172\u001b[0m \u001b[32m━━━━━━━━━━━━━━━━━━━━\u001b[0m\u001b[37m\u001b[0m \u001b[1m164s\u001b[0m 140ms/step - accuracy: 0.9983 - loss: 0.0084 - val_accuracy: 0.8638 - val_loss: 0.8073\n"
          ]
        }
      ]
    },
    {
      "cell_type": "code",
      "source": [
        "import matplotlib.pyplot as plt\n",
        "plt.plot(history.history['accuracy'],label='Training Acc')\n",
        "plt.plot(history.history['val_accuracy'],label='Test Acc')\n",
        "plt.legend()\n",
        "plt.show()"
      ],
      "metadata": {
        "colab": {
          "base_uri": "https://localhost:8080/",
          "height": 430
        },
        "id": "As-Wcg35qne9",
        "outputId": "a5d6149b-33d9-4ce4-e9ad-b04f9a14dac6"
      },
      "execution_count": 29,
      "outputs": [
        {
          "output_type": "display_data",
          "data": {
            "text/plain": [
              "<Figure size 640x480 with 1 Axes>"
            ],
            "image/png": "[encoded data removed]"
          },
          "metadata": {}
        }
      ]
    },
    {
      "cell_type": "code",
      "source": [
        "dataset.head(10)"
      ],
      "metadata": {
        "colab": {
          "base_uri": "https://localhost:8080/",
          "height": 363
        },
        "id": "bk9SoM569_rd",
        "outputId": "f541a991-b450-4f61-ee76-dae93e49c62f"
      },
      "execution_count": 30,
      "outputs": [
        {
          "output_type": "execute_result",
          "data": {
            "text/plain": [
              "                                              review sentiment  \\\n",
              "0  One of the other reviewers has mentioned that ...  positive   \n",
              "1  A wonderful little production. <br /><br />The...  positive   \n",
              "2  I thought this was a wonderful way to spend ti...  positive   \n",
              "3  Basically there's a family where a little boy ...  negative   \n",
              "4  Petter Mattei's \"Love in the Time of Money\" is...  positive   \n",
              "5  Probably my all-time favorite movie, a story o...  positive   \n",
              "6  I sure would like to see a resurrection of a u...  positive   \n",
              "7  This show was an amazing, fresh & innovative i...  negative   \n",
              "8  Encouraged by the positive comments about this...  negative   \n",
              "9  If you like original gut wrenching laughter yo...  positive   \n",
              "\n",
              "   positive_count  negative_count  rating  \n",
              "0               9              24     5.0  \n",
              "1              12               3     8.0  \n",
              "2              14               5     7.0  \n",
              "3               6               6     5.0  \n",
              "4              14               3     8.0  \n",
              "5               8               2     8.0  \n",
              "6               7               2     8.0  \n",
              "7              14               8     6.0  \n",
              "8               9               9     5.0  \n",
              "9               7               1     9.0  "
            ],
            "text/html": [
              "<div>\n",
              "<style scoped>\n",
              "    .dataframe tbody tr th:only-of-type {\n",
              "        vertical-align: middle;\n",
              "    }\n",
              "\n",
              "    .dataframe tbody tr th {\n",
              "        vertical-align: top;\n",
              "    }\n",
              "\n",
              "    .dataframe thead th {\n",
              "        text-align: right;\n",
              "    }\n",
              "</style>\n",
              "<table border=\"1\" class=\"dataframe\">\n",
              "  <thead>\n",
              "    <tr style=\"text-align: right;\">\n",
              "      <th></th>\n",
              "      <th>review</th>\n",
              "      <th>sentiment</th>\n",
              "      <th>positive_count</th>\n",
              "      <th>negative_count</th>\n",
              "      <th>rating</th>\n",
              "    </tr>\n",
              "  </thead>\n",
              "  <tbody>\n",
              "    <tr>\n",
              "      <th>0</th>\n",
              "      <td>One of the other reviewers has mentioned that ...</td>\n",
              "      <td>positive</td>\n",
              "      <td>9</td>\n",
              "      <td>24</td>\n",
              "      <td>5.0</td>\n",
              "    </tr>\n",
              "    <tr>\n",
              "      <th>1</th>\n",
              "      <td>A wonderful little production. &lt;br /&gt;&lt;br /&gt;The...</td>\n",
              "      <td>positive</td>\n",
              "      <td>12</td>\n",
              "      <td>3</td>\n",
              "      <td>8.0</td>\n",
              "    </tr>\n",
              "    <tr>\n",
              "      <th>2</th>\n",
              "      <td>I thought this was a wonderful way to spend ti...</td>\n",
              "      <td>positive</td>\n",
              "      <td>14</td>\n",
              "      <td>5</td>\n",
              "      <td>7.0</td>\n",
              "    </tr>\n",
              "    <tr>\n",
              "      <th>3</th>\n",
              "      <td>Basically there's a family where a little boy ...</td>\n",
              "      <td>negative</td>\n",
              "      <td>6</td>\n",
              "      <td>6</td>\n",
              "      <td>5.0</td>\n",
              "    </tr>\n",
              "    <tr>\n",
              "      <th>4</th>\n",
              "      <td>Petter Mattei's \"Love in the Time of Money\" is...</td>\n",
              "      <td>positive</td>\n",
              "      <td>14</td>\n",
              "      <td>3</td>\n",
              "      <td>8.0</td>\n",
              "    </tr>\n",
              "    <tr>\n",
              "      <th>5</th>\n",
              "      <td>Probably my all-time favorite movie, a story o...</td>\n",
              "      <td>positive</td>\n",
              "      <td>8</td>\n",
              "      <td>2</td>\n",
              "      <td>8.0</td>\n",
              "    </tr>\n",
              "    <tr>\n",
              "      <th>6</th>\n",
              "      <td>I sure would like to see a resurrection of a u...</td>\n",
              "      <td>positive</td>\n",
              "      <td>7</td>\n",
              "      <td>2</td>\n",
              "      <td>8.0</td>\n",
              "    </tr>\n",
              "    <tr>\n",
              "      <th>7</th>\n",
              "      <td>This show was an amazing, fresh &amp; innovative i...</td>\n",
              "      <td>negative</td>\n",
              "      <td>14</td>\n",
              "      <td>8</td>\n",
              "      <td>6.0</td>\n",
              "    </tr>\n",
              "    <tr>\n",
              "      <th>8</th>\n",
              "      <td>Encouraged by the positive comments about this...</td>\n",
              "      <td>negative</td>\n",
              "      <td>9</td>\n",
              "      <td>9</td>\n",
              "      <td>5.0</td>\n",
              "    </tr>\n",
              "    <tr>\n",
              "      <th>9</th>\n",
              "      <td>If you like original gut wrenching laughter yo...</td>\n",
              "      <td>positive</td>\n",
              "      <td>7</td>\n",
              "      <td>1</td>\n",
              "      <td>9.0</td>\n",
              "    </tr>\n",
              "  </tbody>\n",
              "</table>\n",
              "</div>"
            ]
          },
          "metadata": {},
          "execution_count": 30
        }
      ]
    },
    {
      "cell_type": "code",
      "source": [
        "dataset[\"polarity\"] = dataset[\"review\"].map(lambda Text: TextBlob(Text).sentiment.polarity)"
      ],
      "metadata": {
        "id": "W07p-mav96VW"
      },
      "execution_count": 31,
      "outputs": []
    },
    {
      "cell_type": "code",
      "source": [
        "dataset[\"polarity\"].plot(kind = \"hist\", bins = 40, edgecolor = \"blue\", linewidth = 1, color = \"orange\", figsize = (10,5))\n",
        "plt.title(\"Polarity Score in Reviews\", color = \"blue\", pad = 20)\n",
        "plt.xlabel(\"Polarity\", labelpad = 15, color = \"red\")\n",
        "plt.ylabel(\"Amount of Reviews\", labelpad = 20, color = \"green\")\n",
        "\n",
        "plt.show()"
      ],
      "metadata": {
        "colab": {
          "base_uri": "https://localhost:8080/",
          "height": 522
        },
        "id": "tAMD5dwTTj1c",
        "outputId": "921ecdc3-13c5-4ae9-c911-737ba92764be"
      },
      "execution_count": 32,
      "outputs": [
        {
          "output_type": "display_data",
          "data": {
            "text/plain": [
              "<Figure size 1000x500 with 1 Axes>"
            ],
            "image/png": "[encoded data removed]"
          },
          "metadata": {}
        }
      ]
    },
    {
      "cell_type": "code",
      "source": [
        "dataset[\"length\"] = dataset[\"review\"].astype(str).apply(len)"
      ],
      "metadata": {
        "id": "l50dtRRGTpTL"
      },
      "execution_count": 33,
      "outputs": []
    },
    {
      "cell_type": "code",
      "source": [
        "dataset[\"length\"].plot(kind = \"hist\", bins = 40, edgecolor = \"blue\", linewidth = 1, color = \"orange\", figsize = (10,5))\n",
        "plt.title(\"Length of Reviews\", color = \"blue\", pad = 20)\n",
        "plt.xlabel(\"Length\", labelpad = 15, color = \"red\")\n",
        "plt.ylabel(\"Amount of Reviews\", labelpad = 20, color = \"green\")\n",
        "\n",
        "plt.show()"
      ],
      "metadata": {
        "id": "EYhQO00mUEwz",
        "outputId": "e5c983cc-93ac-4bb2-b977-8f12a45d40c9",
        "colab": {
          "base_uri": "https://localhost:8080/",
          "height": 522
        }
      },
      "execution_count": 34,
      "outputs": [
        {
          "output_type": "display_data",
          "data": {
            "text/plain": [
              "<Figure size 1000x500 with 1 Axes>"
            ],
            "image/png": "[encoded data removed]"
          },
          "metadata": {}
        }
      ]
    },
    {
      "cell_type": "markdown",
      "source": [
        "# *N-Gram Analysis*"
      ],
      "metadata": {
        "id": "521EHydMLglH"
      }
    },
    {
      "cell_type": "code",
      "source": [
        "print(Stopwords)\n",
        "def Gram_Analysis(texts, ngram_range, max_features=20):\n",
        "    # Convert set to list JUST for CountVectorizer\n",
        "    vectorizer = CountVectorizer(\n",
        "        ngram_range=(ngram_range, ngram_range),\n",
        "        stop_words=list(Stopwords),  # Convert set to list here\n",
        "        max_features=max_features\n",
        "    )\n",
        "\n",
        "    X = vectorizer.fit_transform(texts)\n",
        "    features = vectorizer.get_feature_names_out()\n",
        "    counts = X.sum(axis=0).A1\n",
        "    return list(zip(features, counts))\n"
      ],
      "metadata": {
        "id": "fFYe7crrUJIr",
        "colab": {
          "base_uri": "https://localhost:8080/"
        },
        "outputId": "9ee88df7-19ef-4d91-d35f-60e1569580e0"
      },
      "execution_count": 35,
      "outputs": [
        {
          "output_type": "stream",
          "name": "stdout",
          "text": [
            "{'into', 'own', 'that', \"we're\", \"they'd\", \"they've\", 'after', 'ain', 'herself', \"we'd\", 'in', 'was', 'ma', 'below', 'by', 'an', \"you've\", 'her', 'between', 'here', 'where', 'if', 'above', 'their', 'being', \"it's\", 'while', 'before', 'mightn', 'about', 'more', 'yourself', 'other', 'itself', 'than', \"don't\", 'haven', 'yourselves', 'all', 'its', \"you'll\", 'll', \"we'll\", 'any', 'from', 'can', 'your', 'both', \"wouldn't\", 'now', 'just', 'the', 'his', 'i', \"i'm\", \"we've\", 'shouldn', 'up', \"couldn't\", 'didn', 'm', 'with', 'these', 'very', 'did', \"i've\", 'o', 'will', \"shan't\", 'had', 'aren', 'it', 'there', 'off', 'don', 'were', \"he'll\", 'mustn', 'no', \"should've\", 'then', 'few', \"aren't\", 'won', \"they'll\", 'is', 're', 'myself', 'hasn', 'shan', 'so', 'they', \"weren't\", \"it'll\", 'theirs', 'too', \"she'd\", 'couldn', 'am', 'what', 'nor', 'you', 'again', \"he's\", \"shouldn't\", 'him', 's', 'this', 'because', 'once', 'most', 'has', 'down', \"isn't\", \"he'd\", 'she', 'each', 'at', \"you'd\", 'ourselves', \"hasn't\", 'wouldn', 'how', 'we', 'hadn', 'such', 'been', \"mustn't\", 'having', 'them', 'd', \"needn't\", 't', \"that'll\", \"won't\", 'over', 'some', 'under', 'same', 'why', \"didn't\", 'ours', 'he', 'but', 'himself', 'y', 'only', \"she's\", 'those', \"wasn't\", 'when', 'for', \"i'd\", 'on', 'hers', 'out', \"she'll\", 'does', \"they're\", \"hadn't\", 'until', 'wasn', 'doesn', \"mightn't\", 'weren', 'are', 'through', 'my', 'which', \"doesn't\", 'further', 'a', \"it'd\", 'and', 'our', 'should', \"haven't\", 'whom', 'have', 'do', 'me', 'themselves', \"you're\", 've', 'to', 'yours', 'who', 'or', 'doing', 'of', 'be', 'isn', \"i'll\", 'during', 'against', 'needn', 'as'}\n"
          ]
        }
      ]
    },
    {
      "cell_type": "code",
      "source": [],
      "metadata": {
        "id": "oPH1uoKjd6vK"
      },
      "execution_count": 35,
      "outputs": []
    }
  ]
}